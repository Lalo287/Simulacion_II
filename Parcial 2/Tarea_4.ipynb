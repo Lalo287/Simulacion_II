{
  "nbformat": 4,
  "nbformat_minor": 0,
  "metadata": {
    "colab": {
      "name": "Tarea 4.ipynb",
      "provenance": [],
      "collapsed_sections": [],
      "authorship_tag": "ABX9TyMSqr3lKg9FxzcCWTfg+nMF",
      "include_colab_link": true
    },
    "kernelspec": {
      "name": "python3",
      "display_name": "Python 3"
    },
    "language_info": {
      "name": "python"
    }
  },
  "cells": [
    {
      "cell_type": "markdown",
      "metadata": {
        "id": "view-in-github",
        "colab_type": "text"
      },
      "source": [
        "<a href=\"https://colab.research.google.com/github/Lalo287/Simulacion_II-Tareas/blob/main/Parcial%202/Tarea_4.ipynb\" target=\"_parent\"><img src=\"https://colab.research.google.com/assets/colab-badge.svg\" alt=\"Open In Colab\"/></a>"
      ]
    },
    {
      "cell_type": "markdown",
      "source": [
        "#Líneas de espera"
      ],
      "metadata": {
        "id": "brE9BTtjRBD2"
      }
    },
    {
      "cell_type": "markdown",
      "source": [
        "##Tarea 4.\n"
      ],
      "metadata": {
        "id": "GJiX-Djs82Qf"
      }
    },
    {
      "cell_type": "markdown",
      "metadata": {
        "id": "Iv8SszGk7VAl"
      },
      "source": [
        "Convierta los códigos vistos en clase (para calcular W, L y P(N=k)) en funciones y úselos para responder todo lo que sea posible mediante simulaciones. Luego verifique sus resultados utilizando las fórmulas de la teoría.\n",
        "\n",
        "Si no es posible usar la simulación para responder alguna pregunta en particular, argumente porqué y respóndala teóricamente."
      ]
    },
    {
      "cell_type": "markdown",
      "source": [
        "### **En la biblioteca**\n",
        "\n",
        "Un encargado de la biblioteca es el único en el mostrador durante todo su turno de trabajo.\n",
        "Las llegadas al mostrador siguen una distribución de Poisson con una media de 8 por hora.\n",
        "Cada usuario de la biblioteca es atendido de uno en uno, y el tiempo de servicio sigue una\n",
        "distribución exponencial con una media de 5 minutos.\n",
        "\n",
        "1.   ¿Cuál es la probabilidad de que se forme cola?\n",
        "2.   ¿Cuál es la longitud media de la cola?\n",
        "3.   ¿Cuál es el tiempo medio que un cliente pasa en la biblioteca hasta que le han atendido?\n",
        "4.   ¿Cuál es el tiempo medio que un cliente pasa en la cola esperando a que le atiendan?\n",
        "5.   El encargado de la biblioteca pasa su tiempo en que no hay clientes clasificando artículos\n",
        "de revistas. Si puede clasificar 22 fichas por hora como media cuando trabaja continuamente,\n",
        "¿Cuántas fichas puede ordenar durante su trabajo?\n",
        "\n"
      ],
      "metadata": {
        "id": "GwkwTEv7N1yl"
      }
    },
    {
      "cell_type": "code",
      "execution_count": 7,
      "metadata": {
        "id": "42Wczrij7U_u"
      },
      "outputs": [],
      "source": [
        "from random import expovariate\n",
        "from statistics import mean\n",
        "from math import inf as Infinity\n",
        "from random import seed\n",
        "from matplotlib.pyplot import *"
      ]
    },
    {
      "cell_type": "code",
      "source": [
        "# Parametros\n",
        "\n",
        "lamda = 8                         # Razón de arrivos (1/Lambda)  Ojo\n",
        "mu = 12                            # Razón de salida (1/Mu)       Ojo\n",
        "\n",
        "\n",
        "Num_Pkts = 100000                   # Numero de paquetes a simular\n",
        "#T = 100000\n",
        "count = 0                           # Contador de paquetes simulados\n",
        "t = 0\n",
        "N = 0                               # Variable de estado: numero de paquetes en el sistema\n",
        "\n",
        "tll = expovariate(lamda)            # Tiempo de llegada\n",
        "ts = Infinity                       # Tiempo de salida\n",
        "t_evento_anterior = 0.0             # tiempo del último evento ****************Nuevas líneas de código***********\n",
        "\n",
        "# Variables de salida\n",
        "tll_Data = []                       # Lista de tiempos de llegada\n",
        "ts_Data = []                        # Lista de tiempos de salida\n",
        "r_Data = []                         # Lista de retrasos individuales\n",
        "\n",
        "Data = {}                           # Diccionario *****************************************************************\n",
        "\n",
        "while count < Num_Pkts:\n",
        "#while t < T:\n",
        "    if tll < ts:                           # Evento de llegada\n",
        "        t = tll\n",
        "        \n",
        "        # longitud del intervalo entre llegadas *********************************************************************\n",
        "        delta = t - t_evento_anterior\n",
        "        if N in Data: \n",
        "            Data[N] += delta\n",
        "        else:\n",
        "            Data[N] = delta\n",
        "        t_evento_anterior = t\n",
        "        \n",
        "        tll_Data.append(t)\n",
        "        N = N + 1.0\n",
        "        tll = t + expovariate(lamda) \n",
        "        if N == 1:\n",
        "            ts = t + expovariate(mu)\n",
        "    else:                                         # Evento de salida\n",
        "        t = ts\n",
        "        \n",
        "        # Longitud del intervalo de tiempo **************************************************************************\n",
        "        delta = t - t_evento_anterior\n",
        "        if N in Data:\n",
        "            Data[N] += delta\n",
        "        else:\n",
        "            Data[N] = delta\n",
        "        t_evento_anterior = t\n",
        "        \n",
        "        ts_Data.append(t)\n",
        "        N = N - 1.0\n",
        "        count = count + 1                         # Paquetes simulados\n",
        "        if N > 0:\n",
        "            ts = t + expovariate(mu)\n",
        "        else:\n",
        "            ts = Infinity\n",
        "\n",
        "##################################### se procesan los datos de salida ########################################\n",
        "            \n",
        "# Estimación del retraso promedio:\n",
        "\n",
        "for i in range(Num_Pkts):\n",
        "#for i in range(T):\n",
        "    d = ts_Data[i] - tll_Data[i]\n",
        "    r_Data.append(d)\n",
        "\n",
        "# Estimación de la probabilidad de P(N=k):\n",
        "for (key, value) in Data.items():\n",
        "    Data[key] = value/t\n",
        "\n",
        "media = 0.0"
      ],
      "metadata": {
        "id": "n5w7o3HmaQ48"
      },
      "execution_count": 54,
      "outputs": []
    },
    {
      "cell_type": "markdown",
      "source": [
        "1. ¿Cuál es la probabilidad de que se forme cola? \n",
        "$$    $$\n",
        "$$  P_{1<12} = 1-P_0+P_1 $$\n",
        "$$    $$"
      ],
      "metadata": {
        "id": "m47lj4L5c7H5"
      }
    },
    {
      "cell_type": "code",
      "source": [
        "P01 = 0\n",
        "\n",
        "for (key, value) in Data.items():\n",
        "  \n",
        "  if key <= 1:\n",
        "    P01 = P01 + round(value, 4) \n",
        "\n",
        "print(\"P_1<12 = \", round(1-P01,4))\n",
        "    "
      ],
      "metadata": {
        "colab": {
          "base_uri": "https://localhost:8080/"
        },
        "id": "uH6CX6Ome7VR",
        "outputId": "cf468fee-d2db-45fc-bda5-2316c831fec7"
      },
      "execution_count": 55,
      "outputs": [
        {
          "output_type": "stream",
          "name": "stdout",
          "text": [
            "P_1<12 =  0.4407\n"
          ]
        }
      ]
    },
    {
      "cell_type": "markdown",
      "source": [
        "Entonces:\n",
        "$$  P_{1<12} = 0.4453 = 44.53 $$\n",
        "$$    $$"
      ],
      "metadata": {
        "id": "LXEppXarqkds"
      }
    },
    {
      "cell_type": "markdown",
      "source": [
        "2.   ¿Cuál es la longitud media de la cola?\n",
        "$$      $$\n",
        "$$ρ=\\frac{λ}{μ}=\\frac{8}{12}=\\frac{2}{3}$$\n",
        "\n",
        "Donde $L_q$\n",
        "\n",
        "$$  L_q = \\frac{ρ^2}{1-ρ} $$\n",
        "$$    $$ "
      ],
      "metadata": {
        "id": "PIwkptPNwu6_"
      }
    },
    {
      "cell_type": "code",
      "source": [
        "p = lamda/mu\n",
        "\n",
        "Lq = (p*p)/(1-p)\n",
        "print( \"Cantidad promedio de clientes que se encuentran en la fila =   Lq =\", round( Lq, 4) )"
      ],
      "metadata": {
        "colab": {
          "base_uri": "https://localhost:8080/"
        },
        "id": "skW2wK7rIkSz",
        "outputId": "c64c3fcf-16c2-4760-8af7-dde9309125e3"
      },
      "execution_count": 52,
      "outputs": [
        {
          "output_type": "stream",
          "name": "stdout",
          "text": [
            "Cantidad promedio de clientes que se encuentran en la fila =   Lq = 1.3333\n"
          ]
        }
      ]
    },
    {
      "cell_type": "markdown",
      "source": [
        "Entonces:\n",
        "$$    $$\n",
        "$$  L_q = 1.333 $$\n",
        "$$    $$\n"
      ],
      "metadata": {
        "id": "AB9SL1WLJZ0E"
      }
    },
    {
      "cell_type": "markdown",
      "source": [
        "3.   ¿Cuál es el tiempo medio que un cliente pasa en la biblioteca hasta que le han atendido?\n",
        "$$    $$\n",
        "$$ W = \\frac{ρ}{\\lambda(1-ρ)}$$\n",
        "$$    $$"
      ],
      "metadata": {
        "id": "ArG7X8ljzW16"
      }
    },
    {
      "cell_type": "code",
      "source": [
        "W = (p)/(lamda*(1-p))\n",
        "\n",
        "print( \"Tiempo de espera en el sistema =    W = \", round( W, 4) )"
      ],
      "metadata": {
        "colab": {
          "base_uri": "https://localhost:8080/"
        },
        "outputId": "f5a791ac-393c-42b5-b748-fa267d16aad7",
        "id": "d1YM7cogzxWN"
      },
      "execution_count": 58,
      "outputs": [
        {
          "output_type": "stream",
          "name": "stdout",
          "text": [
            "Tiempo de espera en el sistema =    W =  0.25\n"
          ]
        }
      ]
    },
    {
      "cell_type": "markdown",
      "source": [
        "Entonces:\n",
        "$$    $$\n",
        "$$  W = 0.25 $$\n",
        "$$    $$\n"
      ],
      "metadata": {
        "id": "6vFivekb0EyY"
      }
    },
    {
      "cell_type": "markdown",
      "source": [
        "4.   ¿Cuál es el tiempo medio que un cliente pasa en la cola esperando a que le atiendan?\n",
        "\n",
        "$$    $$\n",
        "$$ W_q = \\frac{ρ^2}{\\lambda(1-ρ)}$$\n",
        "$$    $$"
      ],
      "metadata": {
        "id": "MmR792jjxkKu"
      }
    },
    {
      "cell_type": "code",
      "source": [
        "Wq = (p*p)/(lamda*(1-p))\n",
        "\n",
        "print( \"Tiempo de espera en la cola =    Wq = \", round( Wq, 4) )"
      ],
      "metadata": {
        "colab": {
          "base_uri": "https://localhost:8080/"
        },
        "id": "1ItW82EnLVFm",
        "outputId": "c5f520b4-ba96-4a8e-8915-7b7249539409"
      },
      "execution_count": 56,
      "outputs": [
        {
          "output_type": "stream",
          "name": "stdout",
          "text": [
            "Tiempo de espera en la cola =    Wq =  0.1667\n"
          ]
        }
      ]
    },
    {
      "cell_type": "markdown",
      "source": [
        "Entonces:\n",
        "$$    $$\n",
        "$$  W_q = 0.1667 $$\n",
        "$$    $$\n"
      ],
      "metadata": {
        "id": "b8YRsp2EzHk0"
      }
    },
    {
      "cell_type": "markdown",
      "source": [
        "### **Lavado de autos**\n",
        "Un pequeño autoservicio de lavado que solo tienen capacidad para atender de uno en uno a los autos que llegan, tiene un aparcamiento para 10 coches, incluyendo el que está siendo lavado. La empresa ha estimado que los coches llegan siguiendo una distribución de Poisson con una media de 20 coches/hora, el tiempo de servicio sigue una distribución exponencial de 12 minutos. La empresa abre durante 10 horas al día.\n",
        "\n",
        "\n",
        "¿Cuál es la media de coches perdidos cada día debido a las limitaciones de espacio?"
      ],
      "metadata": {
        "id": "TIIOgRBX0juj"
      }
    },
    {
      "cell_type": "code",
      "source": [
        "from math import log\n",
        "from random import random, expovariate\n",
        "from statistics import mean\n",
        "\n",
        "def p(x):\n",
        "  return -(1/x)*log(random())\n",
        " \n",
        "def lc():\n",
        "  T = 10                  #Tiempo de la simulación\n",
        "  l = 20                  #Parámetro del proceso de entrada\n",
        "  m = 5                   #Parámetro del proceso de salida\n",
        "  inf = 1000000     \n",
        "  t = 0                   #Tiempo actual del sistema\n",
        "  te = 0                  #Tiemmpo de entrada\n",
        "  ts = 0                  #Timepo de salida\n",
        "  ta = 0          \n",
        "  k = 0                   #Conatdor de coches que se fueron\n",
        "  c = 0                   #Contador de clientes en el sistema\n",
        "\n",
        "  while t<T or c>0:\n",
        "    if t<T:               #Si el tiempo actual supera al tiempo total de atención, el timepo de entrada será infinito \n",
        "      te = p(l)           #De esta forma evitamos entradas después del horario establecido\n",
        "    else:\n",
        "      te = inf\n",
        "\n",
        "    ts = p(m)\n",
        "    if c == 0:             #Si no hay clientes en el sistema, el timepo de salida es infinito para evitar salidas ilógicas\n",
        "      ts = inf\n",
        "\n",
        "    ta = min(te, ts) \n",
        "\n",
        "    if(ta == te):\n",
        "      t = t + te\n",
        "      if c <10:\n",
        "        c = c + 1\n",
        "        #print(\"%.4f\"%t,c)\n",
        "      else:\n",
        "        k = k + 1\n",
        "        #print(\"Coche sin entrar\")\n",
        "\n",
        "    else:\n",
        "      t = t + ts\n",
        "      c = c - 1\n",
        "      #print(\"           %.4f\"%t,c)\n",
        "  return k\n",
        "\n",
        "it = 200000\n",
        "K = []\n",
        "\n",
        "for i in range(it):\n",
        "  K.append(lc())\n",
        "\n",
        "r = mean(K)\n",
        "\n",
        "print(\" Coches en promedio que no fueron atendidos: \", r )"
      ],
      "metadata": {
        "colab": {
          "base_uri": "https://localhost:8080/"
        },
        "id": "i3DQkAAi0_oa",
        "outputId": "2755b5c4-ce20-4b2f-ae46-62d3d7fe336e"
      },
      "execution_count": 61,
      "outputs": [
        {
          "output_type": "stream",
          "name": "stdout",
          "text": [
            " Coches en promedio que no fueron atendidos:  141.25513\n"
          ]
        }
      ]
    },
    {
      "cell_type": "markdown",
      "source": [
        "\n",
        "\n",
        "> **Entonces en promedio no fueron atendidos = 141.25 coches**\n",
        "\n"
      ],
      "metadata": {
        "id": "3l6IiNi412Hr"
      }
    },
    {
      "cell_type": "markdown",
      "source": [
        "### **John Macko**\n",
        "\n",
        "John Macko es alumno en la U de Ozark. Hace trabajos extraños para aumentar sus ingresos.\n",
        "Las peticiones de trabajo llegan en promedio cada 5 días, pero el tiempo entre ellas es exponencial. El tiempo para terminar un trabajo también es exponencial, con una media de 4 días.\n",
        "\n",
        "1.  ¿Cuál es la probabilidad de que le falte trabajo a John?\n",
        "2.  Si John cobra unos 50 por cada trabajo, ¿cuál es su ingreso mensual promedio?\n",
        "3.  Si al final del semestre John decide subcontratar los trabajos pendientes a $40 cada uno, ¿cuánto debe esperar pagar en promedio?"
      ],
      "metadata": {
        "id": "lqSNg2gt2vob"
      }
    },
    {
      "cell_type": "code",
      "source": [
        "# Parametros\n",
        "\n",
        "lamda = 1/5                         # Razón de arrivos (1/Lambda)  Ojo\n",
        "mu = 1/4                            # Razón de salida (1/Mu)       Ojo\n",
        "\n",
        "\n",
        "Num_Pkts = 100000                   # Numero de paquetes a simular\n",
        "#T = 100000\n",
        "count = 0                           # Contador de paquetes simulados\n",
        "t = 0\n",
        "N = 0                               # Variable de estado: numero de paquetes en el sistema\n",
        "\n",
        "tll = expovariate(lamda)            # Tiempo de llegada\n",
        "ts = Infinity                       # Tiempo de salida\n",
        "t_evento_anterior = 0.0             # tiempo del último evento ****************Nuevas líneas de código***********\n",
        "\n",
        "# Variables de salida\n",
        "tll_Data = []                       # Lista de tiempos de llegada\n",
        "ts_Data = []                        # Lista de tiempos de salida\n",
        "r_Data = []                         # Lista de retrasos individuales\n",
        "\n",
        "Data = {}                           # Diccionario *****************************************************************\n",
        "\n",
        "while count < Num_Pkts:\n",
        "#while t < T:\n",
        "    if tll < ts:                           # Evento de llegada\n",
        "        t = tll\n",
        "        \n",
        "        # longitud del intervalo entre llegadas *********************************************************************\n",
        "        delta = t - t_evento_anterior\n",
        "        if N in Data: \n",
        "            Data[N] += delta\n",
        "        else:\n",
        "            Data[N] = delta\n",
        "        t_evento_anterior = t\n",
        "        \n",
        "        tll_Data.append(t)\n",
        "        N = N + 1.0\n",
        "        tll = t + expovariate(lamda) \n",
        "        if N == 1:\n",
        "            ts = t + expovariate(mu)\n",
        "    else:                                         # Evento de salida\n",
        "        t = ts\n",
        "        \n",
        "        # Longitud del intervalo de tiempo **************************************************************************\n",
        "        delta = t - t_evento_anterior\n",
        "        if N in Data:\n",
        "            Data[N] += delta\n",
        "        else:\n",
        "            Data[N] = delta\n",
        "        t_evento_anterior = t\n",
        "        \n",
        "        ts_Data.append(t)\n",
        "        N = N - 1.0\n",
        "        count = count + 1                         # Paquetes simulados\n",
        "        if N > 0:\n",
        "            ts = t + expovariate(mu)\n",
        "        else:\n",
        "            ts = Infinity\n",
        "\n",
        "##################################### se procesan los datos de salida ########################################\n",
        "            \n",
        "# Estimación del retraso promedio:\n",
        "\n",
        "for i in range(Num_Pkts):\n",
        "#for i in range(T):\n",
        "    d = ts_Data[i] - tll_Data[i]\n",
        "    r_Data.append(d)\n",
        "\n",
        "\n",
        "\n",
        "# Estimación de la probabilidad de P(N=k):\n",
        "for (key, value) in Data.items():\n",
        "    Data[key] = value/t\n",
        "\n",
        "# Se verifica que la probabilidad total es 1.0\n",
        "\n",
        "# Se verifican los valores de expectación\n",
        "media = 0.0\n",
        "\n",
        "for (key, value) in Data.items():\n",
        "    media = media + key*value\n",
        "    "
      ],
      "metadata": {
        "id": "fpTQGHOw5Eqz"
      },
      "execution_count": 66,
      "outputs": []
    },
    {
      "cell_type": "markdown",
      "source": [
        "1. ¿Cuál es la probabilidad de que le falte trabajo a John?\n",
        "$$    $$\n",
        "$$  P_0 = 1-ρ $$\n",
        "$$    $$"
      ],
      "metadata": {
        "id": "PYAc7FN87P-D"
      }
    },
    {
      "cell_type": "code",
      "source": [
        "P0 = 0\n",
        "\n",
        "for (key, value) in Data.items():\n",
        "  \n",
        "  if key == 0:\n",
        "    P0 = P0 + round(value, 4) \n",
        "\n",
        "print(\"P_0 = \", round(P0,4))\n",
        "    "
      ],
      "metadata": {
        "colab": {
          "base_uri": "https://localhost:8080/"
        },
        "outputId": "8025c3e2-5228-4cf9-9bad-cd70821112ec",
        "id": "1cu3miz77WD0"
      },
      "execution_count": 71,
      "outputs": [
        {
          "output_type": "stream",
          "name": "stdout",
          "text": [
            "P_0 =  0.205\n"
          ]
        }
      ]
    },
    {
      "cell_type": "markdown",
      "source": [
        "Entonces:\n",
        "$$  P_0 = 0.205 = 20.5 $$\n",
        "$$    $$"
      ],
      "metadata": {
        "id": "17ETDyLo7cKL"
      }
    }
  ]
}