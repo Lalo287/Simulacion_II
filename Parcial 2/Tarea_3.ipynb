{
  "nbformat": 4,
  "nbformat_minor": 0,
  "metadata": {
    "colab": {
      "name": "Tarea 3.ipynb",
      "provenance": [],
      "collapsed_sections": [],
      "authorship_tag": "ABX9TyM1liP7snl55fDJjt9cHMKD",
      "include_colab_link": true
    },
    "kernelspec": {
      "name": "python3",
      "display_name": "Python 3"
    },
    "language_info": {
      "name": "python"
    }
  },
  "cells": [
    {
      "cell_type": "markdown",
      "metadata": {
        "id": "view-in-github",
        "colab_type": "text"
      },
      "source": [
        "<a href=\"https://colab.research.google.com/github/Lalo287/Simulacion_II-Tareas/blob/main/Parcial%202/Tarea_3.ipynb\" target=\"_parent\"><img src=\"https://colab.research.google.com/assets/colab-badge.svg\" alt=\"Open In Colab\"/></a>"
      ]
    },
    {
      "cell_type": "markdown",
      "source": [
        "#Líneas de espera"
      ],
      "metadata": {
        "id": "brE9BTtjRBD2"
      }
    },
    {
      "cell_type": "markdown",
      "source": [
        "##Tarea 3.\n"
      ],
      "metadata": {
        "id": "GJiX-Djs82Qf"
      }
    },
    {
      "cell_type": "markdown",
      "source": [
        "Graficar los datos de salida del código anterior.\n"
      ],
      "metadata": {
        "id": "q5eFKfUMKdJf"
      }
    },
    {
      "cell_type": "code",
      "execution_count": 26,
      "metadata": {
        "id": "T-KXguOvi4fz"
      },
      "outputs": [],
      "source": [
        "from random import expovariate\n",
        "from statistics import mean \n",
        "from math import inf as Infinity"
      ]
    },
    {
      "cell_type": "code",
      "execution_count": 47,
      "metadata": {
        "id": "ZHy_gyZ9i4fz",
        "colab": {
          "base_uri": "https://localhost:8080/"
        },
        "outputId": "576fb8bf-e1c6-4390-8a6e-ee02f68376ac"
      },
      "outputs": [
        {
          "output_type": "stream",
          "name": "stdout",
          "text": [
            "Retraso promedio =  1.424\n"
          ]
        }
      ],
      "source": [
        "# Parametros\n",
        "\n",
        "lamda = 1.3                         # Razón de arrivos (1/Lambda)  Ojo\n",
        "mu = 2.0                            # Razón de salida (1/Mu)       Ojo\n",
        "\n",
        "\n",
        "Num_Pkts = 100000                   # Numero de paquetes a simular\n",
        "#T = 100000\n",
        "count = 0                           # Contador de paquetes simulados\n",
        "t = 0\n",
        "N = 0                               # Variable de estado: numero de paquetes en el sistema\n",
        "\n",
        "tll = expovariate(lamda)            # Tiempo de llegada\n",
        "ts = Infinity                       # Tiempo de salida\n",
        "\n",
        "# Variables de salida\n",
        "tll_Data = []                       # Lista de tiempos de llegada\n",
        "ts_Data = []                        # Lista de tiempos de salida\n",
        "r_Data = []                         # Lista de retrasos individuales\n",
        "\n",
        "X = []\n",
        "Y = []\n",
        "\n",
        "while count < Num_Pkts:\n",
        "#while t < T:\n",
        "    if tll < ts:                           # Evento de llegada\n",
        "        t = tll\n",
        "        tll_Data.append(t)\n",
        "        N = N + 1.0\n",
        "        tll = t + expovariate(lamda) \n",
        "\n",
        "        X.append(t)\n",
        "        Y.append(N)\n",
        "\n",
        "        if N == 1:\n",
        "            ts = t + expovariate(mu)\n",
        "    else:                                         # Evento de salida\n",
        "        t = ts \n",
        "        ts_Data.append(t)\n",
        "        N = N - 1.0\n",
        "        count = count + 1                         # Paquetes simulados\n",
        "\n",
        "        X.append(t)\n",
        "        Y.append(N)\n",
        "\n",
        "        if N > 0:\n",
        "            ts = t + expovariate(mu)\n",
        "        else:\n",
        "            ts = Infinity\n",
        "            \n",
        "# Estimación del retraso promedio:\n",
        "\n",
        "for i in range(Num_Pkts):\n",
        "#for i in range(T):\n",
        "    d = ts_Data[i] - tll_Data[i]\n",
        "    r_Data.append(d)\n",
        "\n",
        "\n",
        "print( \"Retraso promedio = \", round( mean(r_Data), 4) )\n",
        "\n"
      ]
    },
    {
      "cell_type": "code",
      "source": [
        "from matplotlib.pyplot import *\n",
        "from random import seed\n",
        "\n",
        "fig = figure(1, figsize=(16, 8))\n",
        "step(X, Y, Linewidth=1.2, color='pink')\n",
        "title('Grafica de datos')\n",
        "print( \"   \")\n",
        "xlabel('Tiempo', size=16)\n",
        "ylabel('Paquetes en el sistema', size=16)\n",
        "show()"
      ],
      "metadata": {
        "colab": {
          "base_uri": "https://localhost:8080/",
          "height": 535
        },
        "id": "bFrs7mgvGW_Y",
        "outputId": "4e060257-d9f8-424c-b716-5ab67b64957f"
      },
      "execution_count": 48,
      "outputs": [
        {
          "output_type": "stream",
          "name": "stdout",
          "text": [
            "   \n"
          ]
        },
        {
          "output_type": "display_data",
          "data": {
            "text/plain": [
              "<Figure size 1152x576 with 1 Axes>"
            ],
            "image/png": "[encoded data removed]"
          },
          "metadata": {
            "needs_background": "light"
          }
        }
      ]
    }
  ]
}