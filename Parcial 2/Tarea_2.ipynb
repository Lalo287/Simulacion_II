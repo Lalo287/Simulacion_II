{
  "nbformat": 4,
  "nbformat_minor": 0,
  "metadata": {
    "colab": {
      "name": "Tarea 2.ipynb",
      "provenance": [],
      "collapsed_sections": [],
      "authorship_tag": "ABX9TyNbBZ2Tniib8dy2tDsNWBc2",
      "include_colab_link": true
    },
    "kernelspec": {
      "name": "python3",
      "display_name": "Python 3"
    },
    "language_info": {
      "name": "python"
    }
  },
  "cells": [
    {
      "cell_type": "markdown",
      "metadata": {
        "id": "view-in-github",
        "colab_type": "text"
      },
      "source": [
        "<a href=\"https://colab.research.google.com/github/Lalo287/Simulacion_II-Tareas/blob/main/Parcial%202/Tarea_2.ipynb\" target=\"_parent\"><img src=\"https://colab.research.google.com/assets/colab-badge.svg\" alt=\"Open In Colab\"/></a>"
      ]
    },
    {
      "cell_type": "markdown",
      "source": [
        "#Líneas de espera"
      ],
      "metadata": {
        "id": "brE9BTtjRBD2"
      }
    },
    {
      "cell_type": "markdown",
      "source": [
        "##Tarea 2.\n"
      ],
      "metadata": {
        "id": "GJiX-Djs82Qf"
      }
    },
    {
      "cell_type": "markdown",
      "source": [
        "Escribir el código en python de las rutinas indicadas en la sección 6.2 (pp. 88-91) del libro Simulación de Sheldon Ross."
      ],
      "metadata": {
        "id": "q5eFKfUMKdJf"
      }
    },
    {
      "cell_type": "code",
      "execution_count": 27,
      "metadata": {
        "colab": {
          "base_uri": "https://localhost:8080/",
          "height": 1000
        },
        "outputId": "6767f72f-17aa-4d33-cde6-f10e2c72d748",
        "id": "MPApSEUOPrbw"
      },
      "outputs": [
        {
          "output_type": "stream",
          "name": "stdout",
          "text": [
            "     Entrada        No. clientes                    Salida           No. clientes\n",
            "                                                                      \n",
            "      0.00              1\n",
            "                        -                     |       0.06                       0\n",
            "      0.14              1\n",
            "                        -                     |       0.54                       0\n",
            "      0.99              1\n",
            "                        -                     |       1.23                       0\n",
            "      1.51              1\n",
            "                        -                     |       1.56                       0\n",
            "      1.95              1\n",
            "      2.22              2\n",
            "                        -                     |       2.28                       1\n",
            "                        -                     |       2.29                       0\n",
            "      2.61              1\n",
            "      2.64              2\n",
            "                        -                     |       3.06                       1\n",
            "                        -                     |       3.17                       0\n",
            "      3.53              1\n",
            "                        -                     |       3.77                       0\n",
            "      4.33              1\n",
            "                        -                     |       4.33                       0\n",
            "      5.45              1\n",
            "                        -                     |       5.62                       0\n",
            "      6.30              1\n",
            "      6.44              2\n",
            "      6.45              3\n",
            "                        -                     |       6.74                       2\n",
            "      6.84              3\n",
            "                        -                     |       6.97                       2\n",
            "      7.27              3\n",
            "                        -                     |       7.66                       2\n",
            "      7.98              3\n",
            "                        -                     |       8.00                       2\n",
            "      8.54              3\n",
            "                        -                     |       8.72                       2\n",
            "      8.77              3\n",
            "     10.07              4\n",
            "                        -                     |      10.34                       3\n",
            "     10.39              4\n",
            "     10.90              5\n",
            "     11.03              6\n",
            "     11.40              7\n",
            "     11.62              8\n",
            "     12.06              9\n",
            "     12.07              10\n",
            "                        -                     |      12.30                       9\n",
            "                        -                     |      12.32                       8\n",
            "                        -                     |      12.59                       7\n",
            "                        -                     |      13.00                       6\n",
            "     13.12              7\n",
            "     13.20              8\n",
            "     13.35              9\n",
            "                        -                     |      13.55                       8\n",
            "                        -                     |      13.56                       7\n",
            "                        -                     |      13.61                       6\n",
            "                        -                     |      13.72                       5\n",
            "                        -                     |      14.30                       4\n",
            "                        -                     |      14.33                       3\n",
            "     14.34              4\n",
            "     14.91              5\n",
            "                        -                     |      14.98                       4\n",
            "                        -                     |      15.09                       3\n",
            "     15.10              4\n",
            "     15.50              5\n",
            "     15.65              6\n",
            "                        -                     |      15.82                       5\n",
            "     15.84              6\n",
            "     16.10              7\n",
            "                        -                     |      16.16                       6\n",
            "                        -                     |      16.23                       5\n",
            "                        -                     |      16.36                       4\n",
            "                        -                     |      16.54                       3\n",
            "                        -                     |      17.34                       2\n",
            "     17.51              3\n",
            "                        -                     |      18.09                       2\n",
            "                        -                     |      18.11                       1\n",
            "     18.19              2\n",
            "     18.42              3\n",
            "                        -                     |      18.67                       2\n",
            "     18.93              3\n",
            "     19.29              4\n",
            "     19.38              5\n",
            "                        -                     |      19.81                       4\n",
            "     20.18              5\n",
            "                        -                     |      20.25                       4\n",
            "     20.86              5\n",
            "                        -                     |      20.88                       4\n",
            "                        -                     |      21.01                       3\n",
            "     21.10              4\n",
            "     21.41              5\n",
            "     21.75              6\n",
            "     21.91              7\n",
            "                        -                     |      22.20                       6\n",
            "     22.38              7\n",
            "                        -                     |      22.77                       6\n",
            "                        -                     |      23.01                       5\n",
            "                        -                     |      23.10                       4\n",
            "                        -                     |      23.18                       3\n",
            "                        -                     |      23.19                       2\n",
            "     23.61              3\n",
            "     24.13              4\n",
            "     24.42              5\n",
            "     24.67              6\n",
            "     25.00              7\n",
            "     25.61              8\n",
            "                        -                     |      26.02                       7\n",
            "                        -                     |      26.04                       6\n",
            "     26.07              7\n",
            "                        -                     |      26.41                       6\n",
            "     26.98              7\n",
            "                        -                     |      27.09                       6\n",
            "                        -                     |      28.14                       5\n",
            "     28.38              6\n",
            "                        -                     |      28.64                       5\n",
            "                        -                     |      28.78                       4\n",
            "                        -                     |      28.94                       3\n",
            "     28.96              4\n",
            "     28.98              5\n",
            "     29.15              6\n",
            "                        -                     |      29.16                       5\n",
            "                        -                     |      29.18                       4\n",
            "                        -                     |      29.61                       3\n",
            "     29.79              4\n",
            "                        -                     |      29.86                       3\n",
            "     29.90              4\n",
            "                             \n"
          ]
        },
        {
          "output_type": "display_data",
          "data": {
            "text/plain": [
              "<Figure size 432x288 with 1 Axes>"
            ],
            "image/png": "[encoded data removed]"
          },
          "metadata": {
            "needs_background": "light"
          }
        }
      ],
      "source": [
        "from random import random\n",
        "from math import log\n",
        "import matplotlib.pyplot as plt\n",
        "\n",
        "Na = 2           #Llegan aprox 2 usuarios por minuto\n",
        "Nd = 2.2         #Las personas que son capaces de atender en el servidor es un usuario por minuto\n",
        "\n",
        "ta = 0           #los tiempos de llegada de los clientes inicia en 0 \n",
        "td = 100000    \n",
        "\n",
        "T=30            #Tiempo de la simulacion \n",
        "t=0             #iniciamos la simulacion en t=0\n",
        "\n",
        "n = 0             #el numero de clientes que se encuentran en el sistema \n",
        "\n",
        "Lt=[ ]          #lista para guardar los tiempos de llegada \n",
        "Ll=[ ]          #lista para guardar lso cleintes que van llegando y saliendo \n",
        "\n",
        "print(\"     Entrada        No. clientes                    Salida           No. clientes\")\n",
        "print(\"                                                                      \")\n",
        "\n",
        "while min(ta,td) < T:\n",
        "\n",
        "    Lt.append(t)\n",
        "    Ll.append(n)\n",
        "    t = min(ta,td)\n",
        "    Lt.append(t)\n",
        "    Ll.append(n)\n",
        "\n",
        "    if ta <= td:\n",
        "        n = n+1\n",
        "        print(\"%10.2f\"%ta,\"            \",n)\n",
        "        ta = t + (-1/Na)*log(random())\n",
        "        if n == 1: td = t + (-1/Nd)*log(random())\n",
        "    else:\n",
        "        n = n-1\n",
        "        print(\"                        -                     |\",\"%10.2f\"%td,\"                     \",n)\n",
        "        if n == 0:\n",
        "            td = 100000\n",
        "        else:\n",
        "            td = t + (-1./Nd)*log(random())\n",
        "\n",
        "print(\"                             \")\n",
        "plt.plot(Lt,Ll, color = \"black\")\n",
        "plt.xlabel(\"Tiempo\")\n",
        "plt.ylabel(\"Numero de personas en el sistema\")\n",
        "plt.show()"
      ]
    }
  ]
}