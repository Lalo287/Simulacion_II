{
  "nbformat": 4,
  "nbformat_minor": 0,
  "metadata": {
    "colab": {
      "name": "Tarea 2.ipynb",
      "provenance": [],
      "collapsed_sections": []
    },
    "kernelspec": {
      "name": "python3",
      "display_name": "Python 3"
    },
    "language_info": {
      "name": "python"
    }
  },
  "cells": [
    {
      "cell_type": "markdown",
      "source": [
        "# Integral por Monte Carlo\n"
      ],
      "metadata": {
        "id": "S3Dz6PqDhWP3"
      }
    },
    {
      "cell_type": "markdown",
      "source": [
        "## Tarea 2. "
      ],
      "metadata": {
        "id": "w6n6BK8Y1bZe"
      }
    },
    {
      "cell_type": "markdown",
      "source": [
        "Calcular la integral de raíz cuadrada de arco tangente de 0 a 1, usando un método de Monte Carlo.\n"
      ],
      "metadata": {
        "id": "b7uCXDrkjNsd"
      }
    },
    {
      "cell_type": "code",
      "source": [
        "import numpy as np \n",
        "\n",
        "n = int(input(\"Numero de puntos que desea \"))\n",
        "s = 0\n",
        "def G(x):\n",
        "  return np.sqrt(np.arctan(x))\n",
        "\n",
        "for i in range(n):\n",
        "  s += G(np.random.uniform(0,1,1))\n",
        "\n",
        "print ()\n",
        "print (\"El valor de la integral es:\", s/n, \" con un error de\", 0.629823344-(s/n))\n",
        "\n"
      ],
      "metadata": {
        "colab": {
          "base_uri": "https://localhost:8080/"
        },
        "id": "1okMJSSakHvo",
        "outputId": "bf75a244-5c9e-4db3-dac0-80a1c8a8129b"
      },
      "execution_count": null,
      "outputs": [
        {
          "output_type": "stream",
          "name": "stdout",
          "text": [
            "Numero de puntos que desea 100\n",
            "\n",
            "El valor de la integral es: [0.67326911]  con un error de [-0.04344576]\n"
          ]
        }
      ]
    }
  ]
}
