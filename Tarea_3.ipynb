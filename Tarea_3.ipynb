{
  "nbformat": 4,
  "nbformat_minor": 0,
  "metadata": {
    "colab": {
      "name": "Tarea 3.ipynb",
      "provenance": [],
      "toc_visible": true,
      "authorship_tag": "ABX9TyP2nK5je1tEPNGc6fLEhxWs",
      "include_colab_link": true
    },
    "kernelspec": {
      "name": "python3",
      "display_name": "Python 3"
    },
    "language_info": {
      "name": "python"
    }
  },
  "cells": [
    {
      "cell_type": "markdown",
      "metadata": {
        "id": "view-in-github",
        "colab_type": "text"
      },
      "source": [
        "<a href=\"https://colab.research.google.com/github/Lalo287/Simulacion_II-Tareas/blob/main/Tarea_3.ipynb\" target=\"_parent\"><img src=\"https://colab.research.google.com/assets/colab-badge.svg\" alt=\"Open In Colab\"/></a>"
      ]
    },
    {
      "cell_type": "markdown",
      "source": [
        "# Estimación del número $\\pi$"
      ],
      "metadata": {
        "id": "b1l3vsz4aydx"
      }
    },
    {
      "cell_type": "markdown",
      "source": [
        "##Tarea 3."
      ],
      "metadata": {
        "id": "sE-Gp692a1d8"
      }
    },
    {
      "cell_type": "markdown",
      "source": [
        "Simular el experimento de Buffon"
      ],
      "metadata": {
        "id": "t6INCVK2bOzo"
      }
    },
    {
      "cell_type": "code",
      "source": [
        ""
      ],
      "metadata": {
        "id": "sXVgq2r0bpvx"
      },
      "execution_count": null,
      "outputs": []
    }
  ]
}