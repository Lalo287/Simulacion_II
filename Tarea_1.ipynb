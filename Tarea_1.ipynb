{
  "nbformat": 4,
  "nbformat_minor": 0,
  "metadata": {
    "colab": {
      "name": "Tarea 1.ipynb",
      "provenance": [],
      "collapsed_sections": [
        "pGfVfY7Od27_",
        "arnOl6lBuftu"
      ],
      "include_colab_link": true
    },
    "kernelspec": {
      "name": "python3",
      "display_name": "Python 3"
    },
    "language_info": {
      "name": "python"
    }
  },
  "cells": [
    {
      "cell_type": "markdown",
      "metadata": {
        "id": "view-in-github",
        "colab_type": "text"
      },
      "source": [
        "<a href=\"https://colab.research.google.com/github/Lalo287/Simulacion_II/blob/main/Tarea_1.ipynb\" target=\"_parent\"><img src=\"https://colab.research.google.com/assets/colab-badge.svg\" alt=\"Open In Colab\"/></a>"
      ]
    },
    {
      "cell_type": "markdown",
      "source": [
        "# Uso de los números aleatorios\n"
      ],
      "metadata": {
        "id": "fCOjcKO_W6V5"
      }
    },
    {
      "cell_type": "markdown",
      "source": [
        "## Ejercicio 1:\n",
        "\n",
        "\n",
        "\n",
        "\n"
      ],
      "metadata": {
        "id": "pGfVfY7Od27_"
      }
    },
    {
      "cell_type": "markdown",
      "source": [
        "a.   Usar la función random ( ) para simular 1 volado."
      ],
      "metadata": {
        "id": "laP4r6XTu7b3"
      }
    },
    {
      "cell_type": "code",
      "source": [
        "import random \n",
        "\n",
        "for i in range(1):\n",
        "    t = random.randint(1, 2)\n",
        "    if t == 1 :\n",
        "      print(\" Ha caido CARA. \")\n",
        "    elif t == 2 :\n",
        "      print(\" Ha caido CRUZ. \")\n"
      ],
      "metadata": {
        "id": "fNGyyxX9evCZ",
        "colab": {
          "base_uri": "https://localhost:8080/"
        },
        "outputId": "4fa1240c-4086-420b-e018-b3ea5511139f"
      },
      "execution_count": null,
      "outputs": [
        {
          "output_type": "stream",
          "name": "stdout",
          "text": [
            " Ha caido CRUZ. \n"
          ]
        }
      ]
    },
    {
      "cell_type": "markdown",
      "source": [
        "b.   Usar la función random() para simular 1000 volados."
      ],
      "metadata": {
        "id": "IokJi4AOme1w"
      }
    },
    {
      "cell_type": "code",
      "source": [
        "c = 0\n",
        "z = 0\n",
        "\n",
        "for i in range(1000):\n",
        "    t = random.randint(1, 2)\n",
        "    if t == 1 :\n",
        "      c += 1\n",
        "    elif t == 2 :\n",
        "      z += 1\n",
        "\n",
        "print(\"Cara =\", c, \" Cruz =\", z)"
      ],
      "metadata": {
        "id": "p2ecUJ4VolAq",
        "colab": {
          "base_uri": "https://localhost:8080/"
        },
        "outputId": "6c51d5b3-b0ca-40b2-fa74-57767b315479"
      },
      "execution_count": null,
      "outputs": [
        {
          "output_type": "stream",
          "name": "stdout",
          "text": [
            "Cara = 503  Cruz = 497\n"
          ]
        }
      ]
    },
    {
      "cell_type": "markdown",
      "source": [
        "c.   Determinar de b) la probabilidad de que ocurra \"sol\" en un volado. \n",
        "\n"
      ],
      "metadata": {
        "id": "ZlLy3_NtpI-I"
      }
    },
    {
      "cell_type": "code",
      "source": [
        "s = 0\n",
        "a = 0\n",
        "\n",
        "for i in range(1000):\n",
        "    t = random.randint(1, 2)\n",
        "    if t == 1 :\n",
        "      s += 1\n",
        "    elif t == 2 :\n",
        "      a += 1\n",
        "\n",
        "print(\"La probabilidad de que caer SOL es =\", s/10, \"% y de caer Aguila es de =\", a/10, \"%.\")"
      ],
      "metadata": {
        "id": "yMDKp-3XrzP3",
        "colab": {
          "base_uri": "https://localhost:8080/"
        },
        "outputId": "793fd2df-d017-4b17-d189-d81a411857f3"
      },
      "execution_count": null,
      "outputs": [
        {
          "output_type": "stream",
          "name": "stdout",
          "text": [
            "La probabilidad de que caer SOL es = 50.8 % y de caer Aguila es de = 49.2 %.\n"
          ]
        }
      ]
    },
    {
      "cell_type": "markdown",
      "source": [
        "## Ejercicio 2:"
      ],
      "metadata": {
        "id": "arnOl6lBuftu"
      }
    },
    {
      "cell_type": "markdown",
      "source": [
        "a.   Simular un sorteo de los colores blanco, negro, rojo, azul y verde.\n",
        "\n"
      ],
      "metadata": {
        "id": "f0xdhZPRvr6P"
      }
    },
    {
      "cell_type": "code",
      "source": [
        "import random \n",
        "\n",
        "print(\"Te a tocado el color\", random.choice([\"blanco\", \"negro\", \"rojo\", \"azul\", \"verde\"]))\n"
      ],
      "metadata": {
        "id": "iQWevdRDv4TA",
        "colab": {
          "base_uri": "https://localhost:8080/"
        },
        "outputId": "b9c8dbe2-4d4a-47a9-f923-0dace30f0c5d"
      },
      "execution_count": null,
      "outputs": [
        {
          "output_type": "stream",
          "name": "stdout",
          "text": [
            "Te a tocado el color blanco\n"
          ]
        }
      ]
    },
    {
      "cell_type": "markdown",
      "source": [
        "b.   Simular 5 sorteos con sustitución.\n"
      ],
      "metadata": {
        "id": "_pprwXCPv4m3"
      }
    },
    {
      "cell_type": "code",
      "source": [
        "print(\"Te han tocado los colores\", end=' ')\n",
        "for i in range(4):\n",
        "  print(random.choice([\"blanco,\", \"negro,\", \"rojo,\", \"azul,\", \"verde,\"]), end=' ')\n",
        "print(random.choice([\"blanco\", \"negro.\", \"rojo.\", \"azul.\", \"verde.\"]), end=' ')"
      ],
      "metadata": {
        "id": "WeiP7ZZHwBYA",
        "colab": {
          "base_uri": "https://localhost:8080/"
        },
        "outputId": "b0fccb24-941d-4d48-f1ea-be23fe92cceb"
      },
      "execution_count": null,
      "outputs": [
        {
          "output_type": "stream",
          "name": "stdout",
          "text": [
            "Te han tocado los colores verde, verde, blanco, blanco, blanco "
          ]
        }
      ]
    },
    {
      "cell_type": "markdown",
      "source": [
        "## Ejercicio 3:"
      ],
      "metadata": {
        "id": "voyBKDwTkVgy"
      }
    },
    {
      "cell_type": "markdown",
      "source": [
        "Graficar las salidas obtenidas en la Tarea 1"
      ],
      "metadata": {
        "id": "8Z-YKUfoowWW"
      }
    },
    {
      "cell_type": "code",
      "source": [
        "import random\n",
        "import numpy as np\n",
        "import matplotlib.pyplot as plt\n",
        "\n",
        "x = np.linspace(0, 2, 100)\n",
        "y = x*x + y*y = 4  \n",
        "\n",
        "plt.plot(x, y, color=\"red\", markersize=1) "
      ],
      "metadata": {
        "id": "YwYQl2AEkXYS",
        "outputId": "be026868-f95f-4979-8347-05e101c85e0d",
        "colab": {
          "base_uri": "https://localhost:8080/",
          "height": 130
        }
      },
      "execution_count": 7,
      "outputs": [
        {
          "output_type": "error",
          "ename": "SyntaxError",
          "evalue": "ignored",
          "traceback": [
            "\u001b[0;36m  File \u001b[0;32m\"<ipython-input-7-eb8226dcb211>\"\u001b[0;36m, line \u001b[0;32m6\u001b[0m\n\u001b[0;31m    y = x*x + y*y = 4\u001b[0m\n\u001b[0m       ^\u001b[0m\n\u001b[0;31mSyntaxError\u001b[0m\u001b[0;31m:\u001b[0m can't assign to operator\n"
          ]
        }
      ]
    },
    {
      "cell_type": "markdown",
      "source": [
        "# Tarea 1.\n"
      ],
      "metadata": {
        "id": "xFy8cBrls9wH"
      }
    },
    {
      "cell_type": "markdown",
      "source": [
        "Estimar el valor de pi usando la función random"
      ],
      "metadata": {
        "id": "YRgOnz4HuSfg"
      }
    },
    {
      "cell_type": "code",
      "source": [
        "import random \n",
        "\n",
        "n = int(input(\"Numero de puntos que desea \"))\n",
        "dentro = 0\n",
        "\n",
        "for i in range(n):\n",
        "    x = random.uniform(-2, 2)\n",
        "    y = random.uniform(-2, 2)\n",
        "    if (x*x + y*y) <= 4 :\n",
        "      dentro += 1\n",
        "\n",
        "print ()\n",
        "print(\"El valor estimado de pi es\" , 4*(dentro/n))\n"
      ],
      "metadata": {
        "id": "Aps8gA25tnwH",
        "colab": {
          "base_uri": "https://localhost:8080/"
        },
        "outputId": "8cec0f62-283f-46f2-c705-f0144d2997bd"
      },
      "execution_count": 5,
      "outputs": [
        {
          "output_type": "stream",
          "name": "stdout",
          "text": [
            "Numero de puntos que desea 8000\n",
            "\n",
            "El valor estimado de pi es 3.121\n"
          ]
        }
      ]
    }
  ]
}