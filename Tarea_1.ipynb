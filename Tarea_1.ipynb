{
  "nbformat": 4,
  "nbformat_minor": 0,
  "metadata": {
    "colab": {
      "name": "Tarea 1.ipynb",
      "provenance": [],
      "authorship_tag": "ABX9TyMQefvqj9yqNWrZokilViu9",
      "include_colab_link": true
    },
    "kernelspec": {
      "name": "python3",
      "display_name": "Python 3"
    },
    "language_info": {
      "name": "python"
    }
  },
  "cells": [
    {
      "cell_type": "markdown",
      "metadata": {
        "id": "view-in-github",
        "colab_type": "text"
      },
      "source": [
        "<a href=\"https://colab.research.google.com/github/Lalo287/Simulacion_II-Tareas/blob/main/Tarea_1.ipynb\" target=\"_parent\"><img src=\"https://colab.research.google.com/assets/colab-badge.svg\" alt=\"Open In Colab\"/></a>"
      ]
    },
    {
      "cell_type": "markdown",
      "source": [
        "#Líneas de espera"
      ],
      "metadata": {
        "id": "brE9BTtjRBD2"
      }
    },
    {
      "cell_type": "markdown",
      "source": [
        "##Tarea 1.\n"
      ],
      "metadata": {
        "id": "GJiX-Djs82Qf"
      }
    },
    {
      "cell_type": "markdown",
      "metadata": {
        "id": "Eus0icD6K5oV"
      },
      "source": [
        "|  Cliente i:                       |  1 | 2 | 3 |4 |5 |6 |7 |8 |9 |10 | 11 | 12 |\n",
        "|-----------------------------------|----|---|---|--|--|--|--|--|--|---|----|----|\n",
        "|Tiempo de llegada entre i + 1 e i: |2   | 1 | 3 |1 |1 | 4|2 |5 |1 | 2 | 2  |    |\n",
        "|Tiempo de servicio al cliente:     | 1  | 3 | 6 |2 |1 | 1|4 | 2|5 |1  | 1  | 3  |"
      ]
    },
    {
      "cell_type": "markdown",
      "source": [
        "Contruir la tabla completa\n"
      ],
      "metadata": {
        "id": "q5eFKfUMKdJf"
      }
    },
    {
      "cell_type": "markdown",
      "source": [
        "\n",
        "\n",
        "| t | Entrada/salida i| Ini serv i | Ter serv i |T en cola |T en sist | Tamaño de cola t |Clientes en el sistema hasta t|\n",
        "|---|-----------------|------------|------------|----------|----------|------------------|------------------------------|\n",
        "| 0 |     1-Entrada         |     0      |     1      |   0      |    1     |      0           |              1               |\n",
        "| 1 |     1-Salida         |     -      |     -      |     -    |    -     |      0           |              0               |\n",
        "| 2 |     2-Entrada         |     2      |     5      |   0      |    3     |      0           |              1               |\n",
        "| 3 |     3-Entrada         |     5      |     11      |     2    |    6     |      1          |               2              |\n",
        "| 5 |     2-Salida         |     -      |     -      |     -    |    -     |      0          |               1              |\n",
        "| 6 |     4-Entrada         |     11      |     13      |     5    |    2     |      1          |               2              |\n",
        "| 7 |     5-Entrada         |     13      |     14      |     6    |    1     |      2          |               3              |\n",
        "| 8 |     6-Entrada         |     14      |     15      |     6    |    1     |      3          |               4              |\n",
        "| 11 |    3-Salida          |     -      |     -      |     -    |    -     |      2          |                      3       |\n",
        "| 12 |    7-Entro          |     15      |     19      |     3    |    4     |      3          |               4              |\n",
        "| 13 |    4-Salio          |     -      |     -      |     -    |    -     |         2       |          3                   |\n",
        "| 14 |    8-Entro          |     19      |     21      |     2    |    2     |      2          |               3              |\n",
        "| 14 |    5-Salio          |     -      |     -      |     -    |    -     |      2          |               3              |\n",
        "| 15 |    6-Salio          |     -      |     -      |     -    |    -     |         1       |                  2           |\n",
        "| 19 |    9-Entro          |     21      |     26      |     2    |    5     |      1          |               2              |\n",
        "| 19 |    7-Salio          |      -     |     -      |     -    |    -     |      1          |               2              |\n",
        "| 20 |    10-Entro          |     26     |     27      |     6    |    1     |      2          |               3              |\n",
        "| 21 |    8-Salio          |     -      |     -      |     -    |    -     |      1          |               2              |\n",
        "| 22 |    11-Entro         |     27      |     28      |     5    |    1     |      2          |               3              |\n",
        "| 24 |    12-Entro          |     28      |     31      |     4    |    3     |      3          |               4              |\n",
        "| 26 |    9-Salio          |     -      |     -      |     -    |    -     |      2          |               3              |\n",
        "| 27 |    10-Salio          |     -      |     -      |     -    |    -     |      1          |               2              |\n",
        "| 28 |    11-Salio          |     -      |     -      |     -    |    -     |      0          |               1              |\n",
        "| 31 |    12-Salio          |     -      |     -      |     -    |    -     |      0          |               0              |"
      ],
      "metadata": {
        "id": "9hxome5vIshW"
      }
    }
  ]
}