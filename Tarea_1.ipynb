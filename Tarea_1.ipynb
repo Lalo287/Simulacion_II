{
  "nbformat": 4,
  "nbformat_minor": 0,
  "metadata": {
    "colab": {
      "name": "Tarea 1.ipynb",
      "provenance": [],
      "collapsed_sections": [
        "pGfVfY7Od27_",
        "arnOl6lBuftu"
      ],
      "toc_visible": true
    },
    "kernelspec": {
      "name": "python3",
      "display_name": "Python 3"
    },
    "language_info": {
      "name": "python"
    }
  },
  "cells": [
    {
      "cell_type": "markdown",
      "source": [
        "# Uso de los números aleatorios\n"
      ],
      "metadata": {
        "id": "fCOjcKO_W6V5"
      }
    },
    {
      "cell_type": "markdown",
      "source": [
        "## Ejercicio 1:\n",
        "\n",
        "\n",
        "\n",
        "\n"
      ],
      "metadata": {
        "id": "pGfVfY7Od27_"
      }
    },
    {
      "cell_type": "markdown",
      "source": [
        "a.   Usar la función random ( ) para simular 1 volado."
      ],
      "metadata": {
        "id": "laP4r6XTu7b3"
      }
    },
    {
      "cell_type": "code",
      "source": [
        "import random \n",
        "\n",
        "for i in range(1):\n",
        "    t = random.randint(1, 2)\n",
        "    if t == 1 :\n",
        "      print(\" Ha caido CARA. \")\n",
        "    elif t == 2 :\n",
        "      print(\" Ha caido CRUZ. \")\n"
      ],
      "metadata": {
        "id": "fNGyyxX9evCZ",
        "colab": {
          "base_uri": "https://localhost:8080/"
        },
        "outputId": "2fa9500d-7bd2-44ab-be9e-401adc5589a5"
      },
      "execution_count": 20,
      "outputs": [
        {
          "output_type": "stream",
          "name": "stdout",
          "text": [
            " Ha caido CRUZ. \n"
          ]
        }
      ]
    },
    {
      "cell_type": "markdown",
      "source": [
        "b.   Usar la función random() para simular 1000 volados."
      ],
      "metadata": {
        "id": "IokJi4AOme1w"
      }
    },
    {
      "cell_type": "code",
      "source": [
        "c = 0\n",
        "z = 0\n",
        "\n",
        "for i in range(1000):\n",
        "    t = random.randint(1, 2)\n",
        "    if t == 1 :\n",
        "      c += 1\n",
        "    elif t == 2 :\n",
        "      z += 1\n",
        "\n",
        "print(\"Cara =\", c, \" Cruz =\", z)"
      ],
      "metadata": {
        "id": "p2ecUJ4VolAq",
        "colab": {
          "base_uri": "https://localhost:8080/"
        },
        "outputId": "261f18ba-866b-4029-932c-53ee0832e425"
      },
      "execution_count": 21,
      "outputs": [
        {
          "output_type": "stream",
          "name": "stdout",
          "text": [
            "Cara = 496  Cruz = 504\n"
          ]
        }
      ]
    },
    {
      "cell_type": "markdown",
      "source": [
        "c.   Determinar de b) la probabilidad de que ocurra \"sol\" en un volado. \n",
        "\n"
      ],
      "metadata": {
        "id": "ZlLy3_NtpI-I"
      }
    },
    {
      "cell_type": "code",
      "source": [
        "s = 0\n",
        "a = 0\n",
        "\n",
        "for i in range(1000):\n",
        "    t = random.randint(1, 2)\n",
        "    if t == 1 :\n",
        "      s += 1\n",
        "    elif t == 2 :\n",
        "      a += 1\n",
        "\n",
        "print(\"La probabilidad de que caer SOL es =\", s/10, \"% y de caer Aguila es de =\", a/10, \"%.\")"
      ],
      "metadata": {
        "id": "yMDKp-3XrzP3",
        "colab": {
          "base_uri": "https://localhost:8080/"
        },
        "outputId": "259d7f4e-51cb-45db-8b20-a8f3fa59676a"
      },
      "execution_count": 22,
      "outputs": [
        {
          "output_type": "stream",
          "name": "stdout",
          "text": [
            "La probabilidad de que caer SOL es = 50.2 % y de caer Aguila es de = 49.8 %.\n"
          ]
        }
      ]
    },
    {
      "cell_type": "markdown",
      "source": [
        "## Ejercicio 2:"
      ],
      "metadata": {
        "id": "arnOl6lBuftu"
      }
    },
    {
      "cell_type": "markdown",
      "source": [
        "a.   Simular un sorteo de los colores blanco, negro, rojo, azul y verde.\n",
        "\n"
      ],
      "metadata": {
        "id": "f0xdhZPRvr6P"
      }
    },
    {
      "cell_type": "code",
      "source": [
        "import random \n",
        "\n",
        "print(\"Te a tocado el color\", random.choice([\"blanco\", \"negro\", \"rojo\", \"azul\", \"verde\"]))\n"
      ],
      "metadata": {
        "id": "iQWevdRDv4TA",
        "colab": {
          "base_uri": "https://localhost:8080/"
        },
        "outputId": "aeacfd66-d791-438a-d318-8764dbe0f948"
      },
      "execution_count": 23,
      "outputs": [
        {
          "output_type": "stream",
          "name": "stdout",
          "text": [
            "Te a tocado el color verde\n"
          ]
        }
      ]
    },
    {
      "cell_type": "markdown",
      "source": [
        "b.   Simular 5 sorteos con sustitución.\n"
      ],
      "metadata": {
        "id": "_pprwXCPv4m3"
      }
    },
    {
      "cell_type": "code",
      "source": [
        "print(\"Te han tocado los colores\", end=' ')\n",
        "for i in range(4):\n",
        "  print(random.choice([\"blanco,\", \"negro,\", \"rojo,\", \"azul,\", \"verde,\"]), end=' ')\n",
        "print(random.choice([\"blanco\", \"negro.\", \"rojo.\", \"azul.\", \"verde.\"]), end=' ')"
      ],
      "metadata": {
        "id": "WeiP7ZZHwBYA",
        "colab": {
          "base_uri": "https://localhost:8080/"
        },
        "outputId": "76366503-11e9-41bc-e998-71ead2b03ca3"
      },
      "execution_count": 24,
      "outputs": [
        {
          "output_type": "stream",
          "name": "stdout",
          "text": [
            "Te han tocado los colores rojo, negro, rojo, rojo, blanco "
          ]
        }
      ]
    },
    {
      "cell_type": "markdown",
      "source": [
        "# Tarea 1.\n"
      ],
      "metadata": {
        "id": "xFy8cBrls9wH"
      }
    },
    {
      "cell_type": "markdown",
      "source": [
        "Estimar el valor de pi usando la función random"
      ],
      "metadata": {
        "id": "YRgOnz4HuSfg"
      }
    },
    {
      "cell_type": "code",
      "source": [
        "import random \n",
        "\n",
        "puntos = 9999990 #Ingrese el numero de puntos que desea\n",
        "dentro = 0\n",
        "x = 0\n",
        "y = 0\n",
        "\n",
        "for i in range(puntos):\n",
        "    x = random.uniform(-2, 2)\n",
        "    y = random.uniform(-2, 2)\n",
        "    if (x*x + y*y) <= 4 :\n",
        "      dentro += 1\n",
        "\n",
        "print(\"El valor estimado de pi es\" , 4*(dentro/puntos))\n"
      ],
      "metadata": {
        "id": "Aps8gA25tnwH",
        "colab": {
          "base_uri": "https://localhost:8080/"
        },
        "outputId": "7652b848-59d1-40d9-8e13-eca927575739"
      },
      "execution_count": 19,
      "outputs": [
        {
          "output_type": "stream",
          "name": "stdout",
          "text": [
            "El valor estimado de pi es 3.1413687413687414\n"
          ]
        }
      ]
    }
  ]
}