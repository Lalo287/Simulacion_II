{
  "nbformat": 4,
  "nbformat_minor": 0,
  "metadata": {
    "colab": {
      "name": "Tarea 4.ipynb",
      "provenance": [],
      "authorship_tag": "ABX9TyNIBWa2uEqbnojHfMySOrqF",
      "include_colab_link": true
    },
    "kernelspec": {
      "name": "python3",
      "display_name": "Python 3"
    },
    "language_info": {
      "name": "python"
    }
  },
  "cells": [
    {
      "cell_type": "markdown",
      "metadata": {
        "id": "view-in-github",
        "colab_type": "text"
      },
      "source": [
        "<a href=\"https://colab.research.google.com/github/Lalo287/Simulacion_II-Tareas/blob/main/Tarea_4.ipynb\" target=\"_parent\"><img src=\"https://colab.research.google.com/assets/colab-badge.svg\" alt=\"Open In Colab\"/></a>"
      ]
    },
    {
      "cell_type": "markdown",
      "source": [
        "# Distribución normal\n"
      ],
      "metadata": {
        "id": "b1l3vsz4aydx"
      }
    },
    {
      "cell_type": "markdown",
      "source": [
        "##Tarea 4."
      ],
      "metadata": {
        "id": "sE-Gp692a1d8"
      }
    },
    {
      "cell_type": "markdown",
      "source": [
        "Generar una distribución normal por el método de las doce uniformes.  Hacer el histograma y comparar con el generado por la función gauss()."
      ],
      "metadata": {
        "id": "t6INCVK2bOzo"
      }
    },
    {
      "cell_type": "code",
      "source": [
        "import random\n",
        "import numpy as np\n",
        "import matplotlib.pyplot as plot\n",
        "\n",
        "L = []\n",
        "o_1 = 0\n",
        "\n",
        "u = int(input(\"Ingrese el valor de la desviacion \"))\n",
        "o = int(input(\"Ingrese el valor de la media \"))\n",
        "n = int(input(\"Numero de puntos que desea \"))\n",
        "\n",
        "for i in range(n):\n",
        "  suma = 0\n",
        "  for l in range(12):\n",
        "    a = random.random()\n",
        "    suma += a\n",
        "\n",
        "  x = u + o*(suma-6)\n",
        "  L.append(x)\n",
        "  o_1 += x\n",
        "print()\n",
        "\n",
        "fig = plt.figure(1, figsize=(10, 7))\n",
        "plot.hist(x=L, bins=7, color='#5F9EA0', rwidth=0.9)\n",
        "plot.title('Histograma de edades')\n",
        "plot.xlabel(\"Eje X\")\n",
        "plot.ylabel(\"Eje Y\")\n",
        "plot.show() \n",
        "\n",
        "print()\n",
        "print(\"La media es \", o_1/n)\n",
        "st_dev = np.std(L)\n",
        "print(\"La desviacion es \", str(st_dev))\n",
        "\n"
      ],
      "metadata": {
        "colab": {
          "base_uri": "https://localhost:8080/",
          "height": 586
        },
        "outputId": "856e855d-2e10-4604-8836-b91666b3e57d",
        "id": "VFQBWbg4liec"
      },
      "execution_count": 67,
      "outputs": [
        {
          "output_type": "stream",
          "name": "stdout",
          "text": [
            "Ingrese el valor de la desviacion 180\n",
            "Ingrese el valor de la media 15\n",
            "Numero de puntos que desea 10000\n",
            "\n"
          ]
        },
        {
          "output_type": "display_data",
          "data": {
            "text/plain": [
              "<Figure size 720x504 with 1 Axes>"
            ],
            "image/png": "[encoded data removed]"
          },
          "metadata": {
            "needs_background": "light"
          }
        },
        {
          "output_type": "stream",
          "name": "stdout",
          "text": [
            "\n",
            "La media es  180.2659184405809\n",
            "La desviacion es  14.97785747224042\n"
          ]
        }
      ]
    }
  ]
}