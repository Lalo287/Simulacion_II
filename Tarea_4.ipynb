{
  "nbformat": 4,
  "nbformat_minor": 0,
  "metadata": {
    "colab": {
      "name": "Tarea 4.ipynb",
      "provenance": [],
      "authorship_tag": "ABX9TyPxP4BijjsEP/E20k+DOkvb",
      "include_colab_link": true
    },
    "kernelspec": {
      "name": "python3",
      "display_name": "Python 3"
    },
    "language_info": {
      "name": "python"
    }
  },
  "cells": [
    {
      "cell_type": "markdown",
      "metadata": {
        "id": "view-in-github",
        "colab_type": "text"
      },
      "source": [
        "<a href=\"https://colab.research.google.com/github/Lalo287/Simulacion_II-Tareas/blob/main/Tarea_4.ipynb\" target=\"_parent\"><img src=\"https://colab.research.google.com/assets/colab-badge.svg\" alt=\"Open In Colab\"/></a>"
      ]
    },
    {
      "cell_type": "markdown",
      "source": [
        "# Distribución normal\n"
      ],
      "metadata": {
        "id": "b1l3vsz4aydx"
      }
    },
    {
      "cell_type": "markdown",
      "source": [
        "##Tarea 4."
      ],
      "metadata": {
        "id": "sE-Gp692a1d8"
      }
    },
    {
      "cell_type": "markdown",
      "source": [
        "Generar una distribución normal por el método de las doce uniformes.  Hacer el histograma y comparar con el generado por la función gauss()."
      ],
      "metadata": {
        "id": "t6INCVK2bOzo"
      }
    },
    {
      "cell_type": "code",
      "source": [
        "import random \n",
        "import matplotlib.pyplot as plt \n",
        "\n"
      ],
      "metadata": {
        "id": "sXVgq2r0bpvx"
      },
      "execution_count": null,
      "outputs": []
    }
  ]
}